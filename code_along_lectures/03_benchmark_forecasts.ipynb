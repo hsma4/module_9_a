{
 "cells": [
  {
   "cell_type": "markdown",
   "metadata": {},
   "source": [
    "# Simple forecasting techniques\n",
    "\n",
    "## The importance of a baseline model\n",
    "\n",
    "In this notebook we will explore some simple forecasting techniques.  Selecting on of these simple techniques should on of your early decisions in a time series forecasting project. Although each represents simple approach to forecasting they are from a family of techniques used for setting a statistical baseline. Before you move onto complex methods make sure you use a benchmark or baseline.  Any complex model must be better than the baseline to be considered for forecasting.  This is a often a missed step in forecasting where there is a temptation to use complex methods.\n",
    "\n",
    "The methods we will explore are:\n",
    "\n",
    "* Naive Forecast 1\n",
    "* Seasonal Naive\n",
    "\n",
    "We will also briefly introduce **Prediction Intervals** and measuring **forecast error**\n",
    "\n",
    "# Imports"
   ]
  },
  {
   "cell_type": "code",
   "execution_count": null,
   "metadata": {},
   "outputs": [],
   "source": [
    "import pandas as pd\n",
    "import numpy as np\n",
    "import matplotlib.pyplot as plt\n",
    "import matplotlib.dates as mdates\n",
    "import matplotlib.style as style\n",
    "style.use('ggplot')\n",
    "\n",
    "import sys\n",
    "\n",
    "import warnings\n",
    "warnings.filterwarnings('ignore')"
   ]
  },
  {
   "cell_type": "markdown",
   "metadata": {},
   "source": [
    "# forecast-tools"
   ]
  },
  {
   "cell_type": "code",
   "execution_count": null,
   "metadata": {},
   "outputs": [],
   "source": [
    "# install forecast-tools if running in Google Colab\n",
    "if 'google.colab' in sys.modules:\n",
    "    !pip install forecast-tools"
   ]
  },
  {
   "cell_type": "markdown",
   "metadata": {},
   "source": [
    "# Helper functions"
   ]
  },
  {
   "cell_type": "code",
   "execution_count": null,
   "metadata": {},
   "outputs": [],
   "source": [
    "def preds_as_series(data, preds):\n",
    "    '''\n",
    "    Helper function for plotting predictions.\n",
    "    Converts a numpy array of predictions to a \n",
    "    pandas.DataFrame with datetimeindex\n",
    "    \n",
    "    Parameters\n",
    "    -----\n",
    "    preds - numpy.array, vector of predictions\n",
    "    start - start date of the time series\n",
    "    freq - the frequency of the time series e.g 'MS' or 'D'\n",
    "    '''\n",
    "    start = pd.date_range(start=data.index.max(), periods=2, freq=data.index.freq).max()\n",
    "    idx = pd.date_range(start=start, periods=len(preds), freq=data.index.freq)\n",
    "    return pd.DataFrame(preds, index=idx)"
   ]
  },
  {
   "cell_type": "markdown",
   "metadata": {},
   "source": [
    "# The ED arrivals dataset.\n",
    "\n",
    "The dataset we will use represent daily adult (age > 18) arrivals to an Emergency Department.  The simulated observations are based on attendences at a real emergency department between Jan 2017 and Dec 2017."
   ]
  },
  {
   "cell_type": "code",
   "execution_count": null,
   "metadata": {},
   "outputs": [],
   "source": [
    "# the url link means you are downloading this data directly from the HSMA github repo.\n",
    "url = 'https://raw.githubusercontent.com/hsma4/module_9_a/main/data/' \\\n",
    "        + 'ed_attends.csv'\n",
    "ed_daily = pd.read_csv(url, parse_dates=True, index_col='date')\n",
    "ed_daily.index.freq = 'D'"
   ]
  },
  {
   "cell_type": "code",
   "execution_count": null,
   "metadata": {},
   "outputs": [],
   "source": [
    "ed_daily.index.min()"
   ]
  },
  {
   "cell_type": "code",
   "execution_count": null,
   "metadata": {},
   "outputs": [],
   "source": [
    "ed_daily.index.max()"
   ]
  },
  {
   "cell_type": "code",
   "execution_count": null,
   "metadata": {},
   "outputs": [],
   "source": [
    "ed_daily.shape"
   ]
  },
  {
   "cell_type": "markdown",
   "metadata": {},
   "source": [
    "### Visualise the time series"
   ]
  },
  {
   "cell_type": "code",
   "execution_count": null,
   "metadata": {},
   "outputs": [],
   "source": [
    "_ = ed_daily.plot(figsize=(12,4))"
   ]
  },
  {
   "cell_type": "markdown",
   "metadata": {},
   "source": [
    "# Naive Forecast 1\n",
    "\n",
    "An alternative and popular baseline forecast is Naive Forecast 1.  This simply takes the last value in the time series and extrapolates it forward over the forecast horizon.  I.e.\n",
    "\n",
    "**Naive Forecast = Last value in the time series**\n",
    "\n",
    "In mathematical notation:\n",
    "\n",
    "$\\hat{y}_{T+h|T} =y_t$\n",
    "\n",
    "PenCHORD has implemented some simple classes for baseline forecasts in a package called `forecast-tools`.  \n",
    "\n",
    "For a Naive 1 forecast the class to use is\n",
    "\n",
    "```python\n",
    "forecast_tools.baseline.Naive1\n",
    "```\n",
    "\n",
    "There are three steps to use it\n",
    "\n",
    "* Create an instance of the class\n",
    "* Call the `fit` method and pass in the historical data\n",
    "* Call the `predict` method and pass in a chosen forecast horizon e.g. 28 days. "
   ]
  },
  {
   "cell_type": "code",
   "execution_count": null,
   "metadata": {},
   "outputs": [],
   "source": [
    "from forecast_tools.baseline import Naive1"
   ]
  },
  {
   "cell_type": "code",
   "execution_count": null,
   "metadata": {},
   "outputs": [],
   "source": [
    "nf1 = Naive1()\n",
    "nf1.fit(ed_daily)\n",
    "nf1_preds = nf1.predict(horizon=28)"
   ]
  },
  {
   "cell_type": "code",
   "execution_count": null,
   "metadata": {},
   "outputs": [],
   "source": [
    "nf1_preds"
   ]
  },
  {
   "cell_type": "markdown",
   "metadata": {},
   "source": [
    "Let's visualise the forecast relative to the training data.\n",
    "\n",
    "* Do you think this is a good baseline?"
   ]
  },
  {
   "cell_type": "code",
   "execution_count": null,
   "metadata": {},
   "outputs": [],
   "source": [
    "ax = ed_daily.plot(figsize=(12,4))\n",
    "nf1.fittedvalues.plot(ax=ax, linestyle='-.')\n",
    "preds_as_series(ed_daily, nf1_preds).plot(ax=ax)\n",
    "_ = ax.legend(['train', 'Naive1'])"
   ]
  },
  {
   "cell_type": "markdown",
   "metadata": {},
   "source": [
    "## Seasonal Naive\n",
    "\n",
    "Seasonal Naive extends Naive1 in an attempt to incorporate the seasonality in the data.  Instead of carrying the final value in the time series forward it carries forward the value from the previous time period.  As we are working with monthly data this means that a forecast for Janurary will use the previous Janurary's observation. A forecast for February will use the previous February's observation and so on."
   ]
  },
  {
   "cell_type": "code",
   "execution_count": null,
   "metadata": {},
   "outputs": [],
   "source": [
    "from forecast_tools.baseline import SNaive"
   ]
  },
  {
   "cell_type": "code",
   "execution_count": null,
   "metadata": {},
   "outputs": [],
   "source": [
    "snf = SNaive(period=7)\n",
    "snf.fit(ed_daily)\n",
    "snf_preds = snf.predict(horizon=28)"
   ]
  },
  {
   "cell_type": "code",
   "execution_count": null,
   "metadata": {},
   "outputs": [],
   "source": [
    "snf_preds"
   ]
  },
  {
   "cell_type": "code",
   "execution_count": null,
   "metadata": {},
   "outputs": [],
   "source": [
    "ax = ed_daily.plot(figsize=(12,4))\n",
    "snf.fittedvalues.plot(ax=ax, linestyle='-.')\n",
    "preds_as_series(ed_daily, snf_preds).plot(ax=ax)\n",
    "_ = ax.legend(['train','Fitted Model', 'SNaive Forecast'])"
   ]
  },
  {
   "cell_type": "markdown",
   "metadata": {},
   "source": [
    "## Prediction Intervals\n",
    "\n",
    "To return a prediction interval from a baseline forecast object use:\n",
    "\n",
    "```python\n",
    "y_preds, y_intervals = model.predict(horizon, return_predict_int=True)\n",
    "```\n",
    "\n",
    "By default this returns 80% and 90% PIs.  \n",
    "\n",
    "To return only the 80% intervals use:\n",
    "\n",
    "```python\n",
    "y_preds, y_intervals = model.predict(horizon, \n",
    "                                     return_predict_int=True, \n",
    "                                     alpha=[0.2])\n",
    "```\n",
    "\n",
    "To return, the 80, 90 and 95% intervals use:\n",
    "\n",
    "\n",
    "```python\n",
    "y_preds, y_intervals = model.predict(horizon, \n",
    "                                     return_predict_int=True, \n",
    "                                     alpha=[0.2,0.1,0.05])\n",
    "```"
   ]
  },
  {
   "cell_type": "code",
   "execution_count": null,
   "metadata": {},
   "outputs": [],
   "source": [
    "snf = SNaive(period=7)\n",
    "snf.fit(ed_daily)\n",
    "y_preds, y_intervals = snf.predict(horizon=6, return_predict_int=True, \n",
    "                                    alpha=[0.2, 0.05])\n",
    "y_intervals[1]"
   ]
  },
  {
   "cell_type": "code",
   "execution_count": null,
   "metadata": {},
   "outputs": [],
   "source": [
    "def plot_prediction_intervals(train, preds, intervals, test=None):\n",
    "    '''\n",
    "    Helper function to plot training data, point preds\n",
    "    and 2 sets of prediction intevals\n",
    "    \n",
    "    assume 2 sets of PIs are provided!\n",
    "    '''\n",
    "    ax = train.plot(figsize=(12,4))\n",
    "\n",
    "    mean = preds_as_series(train, preds)\n",
    "    intervals_80 = preds_as_series(train, intervals[0])\n",
    "    intervals_90 = preds_as_series(train, intervals[1])\n",
    "\n",
    "    mean.plot(ax=ax, label='point forecast')\n",
    "\n",
    "    ax.fill_between(intervals_80.index, mean[0], intervals_80[1], \n",
    "                    alpha=0.2,\n",
    "                    label='80% PI', color='yellow');\n",
    "\n",
    "    ax.fill_between(intervals_80.index,mean[0], intervals_80[0], \n",
    "                    alpha=0.2,\n",
    "                    label='80% PI', color='yellow');\n",
    "\n",
    "    ax.fill_between(intervals_80.index,intervals_80[1], intervals_90[1], \n",
    "                    alpha=0.2,\n",
    "                    label='90% PI', color='purple');\n",
    "\n",
    "    ax.fill_between(intervals_80.index,intervals_80[0], intervals_90[0], \n",
    "                    alpha=0.2,\n",
    "                    label='90% PI', color='purple');\n",
    "    \n",
    "    if test is None:\n",
    "        ax.legend(['train', 'point forecast', '80%PI', '_ignore','_ignore', \n",
    "                   '90%PI'], loc=2)\n",
    "    else:\n",
    "        test.plot(ax=ax, color='black')\n",
    "        ax.legend(['train', 'point forecast', 'Test', '80%PI', '_ignore',\n",
    "                   '_ignore', '90%PI'], loc=2)\n",
    "    \n",
    "    "
   ]
  },
  {
   "cell_type": "code",
   "execution_count": null,
   "metadata": {},
   "outputs": [],
   "source": [
    "plot_prediction_intervals(ed_daily[-60:], y_preds, y_intervals)"
   ]
  },
  {
   "cell_type": "markdown",
   "metadata": {},
   "source": [
    "# Measuring Point Forecast Error.\n",
    "\n",
    "## A basic train test split\n",
    "\n",
    "Let's hold back 28 days of data and calculate the forecast error of Seasonal Naive.\n",
    "\n",
    "`forecast-tools` helps you calculate forecast error with the `forecast_tools.metrics.forecast_errors` function.  The function calculates a range of metrics."
   ]
  },
  {
   "cell_type": "code",
   "execution_count": null,
   "metadata": {},
   "outputs": [],
   "source": [
    "train_length = ed_daily.shape[0] - 28\n",
    "train, test = ed_daily.iloc[:train_length], ed_daily.iloc[train_length:]"
   ]
  },
  {
   "cell_type": "code",
   "execution_count": null,
   "metadata": {},
   "outputs": [],
   "source": [
    "train.shape"
   ]
  },
  {
   "cell_type": "code",
   "execution_count": null,
   "metadata": {},
   "outputs": [],
   "source": [
    "test.shape"
   ]
  },
  {
   "cell_type": "markdown",
   "metadata": {},
   "source": [
    "### IMPORTANT - DO NOT LOOK AT THE TEST SET!\n",
    "\n",
    "We need to **hold back** a proportion of our data.  This is so we can simulate real forecasting conditions and check a models accuracy on **unseen** data.  We don't want to know what it looks like as that will introduce bias into the forecasting process and mean we overfit our model to the data we hold.\n",
    "\n",
    "**Remember - there is no such thing as real time data from the future!**"
   ]
  },
  {
   "cell_type": "code",
   "execution_count": null,
   "metadata": {},
   "outputs": [],
   "source": [
    "snf = SNaive(period=7)\n",
    "preds = snf.fit_predict(train, horizon=28)\n",
    "preds"
   ]
  },
  {
   "cell_type": "code",
   "execution_count": null,
   "metadata": {},
   "outputs": [],
   "source": [
    "from forecast_tools.metrics import forecast_errors\n",
    "\n",
    "forecast_errors(test, preds)"
   ]
  },
  {
   "cell_type": "code",
   "execution_count": null,
   "metadata": {},
   "outputs": [],
   "source": [
    "nf1 = Naive1()\n",
    "preds = nf1.fit_predict(train, horizon=28)\n",
    "preds"
   ]
  },
  {
   "cell_type": "code",
   "execution_count": null,
   "metadata": {},
   "outputs": [],
   "source": [
    "forecast_errors(test, preds)"
   ]
  }
 ],
 "metadata": {
  "kernelspec": {
   "display_name": "Python 3 (ipykernel)",
   "language": "python",
   "name": "python3"
  },
  "language_info": {
   "codemirror_mode": {
    "name": "ipython",
    "version": 3
   },
   "file_extension": ".py",
   "mimetype": "text/x-python",
   "name": "python",
   "nbconvert_exporter": "python",
   "pygments_lexer": "ipython3",
   "version": "3.8.8"
  }
 },
 "nbformat": 4,
 "nbformat_minor": 4
}
