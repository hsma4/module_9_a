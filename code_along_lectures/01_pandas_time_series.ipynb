{
 "cells": [
  {
   "cell_type": "markdown",
   "metadata": {},
   "source": [
    "# Loading time series data into Pandas\n",
    "\n",
    "This notebook demonstrates how to load a time series into a `pandas.DataFrame`.   There are a couple of extra steps we need to take when dealing with time series.\n",
    "\n",
    "* parse dates and watch out for US and UK date format issues\n",
    "* set the index of the `pandas.DataFrame` to be a `DateTimeIndex`\n",
    "* Set the frequency of the `DateTimeIndex`"
   ]
  },
  {
   "cell_type": "markdown",
   "metadata": {},
   "source": [
    "# Imports\n",
    "\n",
    "Ideally for this module you should have a version of pandas around version 1.2. "
   ]
  },
  {
   "cell_type": "code",
   "execution_count": null,
   "metadata": {},
   "outputs": [],
   "source": [
    "import pandas as pd\n",
    "pd.__version__"
   ]
  },
  {
   "cell_type": "markdown",
   "metadata": {},
   "source": [
    "# Alcohol sales dataset\n",
    "\n",
    "Let's download and open an example time series.  This particular one is alcohol sales and it looks like the figure below.  Its an interesting time series as the variation in it increases over time!\n",
    "\n",
    "![image](images/alcohol_ts.png)\n"
   ]
  },
  {
   "cell_type": "markdown",
   "metadata": {},
   "source": [
    "# Reading a CSV\n",
    "\n",
    "To load a time series into `pandas` you need to use the `read_csv()` function. Some additional steps\n",
    "\n",
    "* set `parse_dates=True` - this parses the dates\n",
    "* set `index_col` to the name of the date column. In this example the column has a name called `DATE`\n",
    "* Before you load the dataset check the date format.  If it is in UK day first format then set `dayfirst=True`\n",
    "* After you have loaded the data set the frequency of the date time index\n",
    "    * Daily frequency = 'D'\n",
    "    * Monthly frequency = 'MS' (month start)\n"
   ]
  },
  {
   "cell_type": "code",
   "execution_count": null,
   "metadata": {},
   "outputs": [],
   "source": [
    "#read in data\n",
    "url = 'https://raw.githubusercontent.com/hsma4/module_9_a/main/' \\\n",
    "        + 'data/Alcohol_Sales.csv'\n",
    "ts = pd.read_csv(url, \n",
    "                 parse_dates=True, \n",
    "                 index_col='DATE')\n",
    "\n",
    "#set the frequency of the datetime index (monthly data)\n",
    "ts.index.freq = 'MS'"
   ]
  },
  {
   "cell_type": "code",
   "execution_count": null,
   "metadata": {},
   "outputs": [],
   "source": [
    "ts.info()"
   ]
  },
  {
   "cell_type": "code",
   "execution_count": null,
   "metadata": {},
   "outputs": [],
   "source": [
    "ts.head(10)"
   ]
  }
 ],
 "metadata": {
  "kernelspec": {
   "display_name": "Python 3 (ipykernel)",
   "language": "python",
   "name": "python3"
  },
  "language_info": {
   "codemirror_mode": {
    "name": "ipython",
    "version": 3
   },
   "file_extension": ".py",
   "mimetype": "text/x-python",
   "name": "python",
   "nbconvert_exporter": "python",
   "pygments_lexer": "ipython3",
   "version": "3.8.8"
  }
 },
 "nbformat": 4,
 "nbformat_minor": 4
}
