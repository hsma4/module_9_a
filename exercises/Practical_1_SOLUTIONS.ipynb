{
 "cells": [
  {
   "cell_type": "markdown",
   "metadata": {},
   "source": [
    "# Practical 1: Exploring time series data - model answers"
   ]
  },
  {
   "cell_type": "code",
   "execution_count": null,
   "metadata": {},
   "outputs": [],
   "source": [
    "import pandas as pd\n",
    "import numpy as np\n",
    "import matplotlib.pyplot as plt\n",
    "import seaborn as sns"
   ]
  },
  {
   "cell_type": "markdown",
   "metadata": {},
   "source": [
    "**Step 1: Import emergency department reattendance data.**  \n",
    "\n",
    "This is a time series from a hospital that measures the number of patients per month that have reattended an ED within 7 days of a previous attendance.\n",
    "\n",
    "This can be found in **\"data/ed_reattend.csv\"** or \n",
    "https://raw.githubusercontent.com/hsma4/module_9_a/main/data/ed_reattend.csv\n",
    "\n",
    "* Hint 1: look back at the lecture notes and see how `pd.read_csv()` was used.  \n",
    "\n",
    "* Hint 2: The format of the 'date' column is in UK standard dd/mm/yyyy.  You will need to set the `dayfirst=True` of `pd.read_csv()` to make sure pandas interprets the dates correctly.\n",
    "\n",
    "* Hint 3: The data is monthly and the dates are all the first day of the month.  This is called monthly start and its shorthand is 'MS'"
   ]
  },
  {
   "cell_type": "code",
   "execution_count": null,
   "metadata": {},
   "outputs": [],
   "source": [
    "url = 'https://raw.githubusercontent.com/hsma4/module_9_a/main/data/' \\\n",
    "        + 'ed_reattend.csv'\n",
    "reattends = pd.read_csv(url, index_col='date', \n",
    "                        parse_dates=True, dayfirst=True)\n",
    "reattends.index.freq = 'MS'"
   ]
  },
  {
   "cell_type": "markdown",
   "metadata": {},
   "source": [
    "**Step 2: Check the shape of the `DataFrame` and print out the first 5 observations**"
   ]
  },
  {
   "cell_type": "code",
   "execution_count": null,
   "metadata": {},
   "outputs": [],
   "source": [
    "reattends.shape"
   ]
  },
  {
   "cell_type": "code",
   "execution_count": null,
   "metadata": {},
   "outputs": [],
   "source": [
    "reattends.head()"
   ]
  },
  {
   "cell_type": "markdown",
   "metadata": {},
   "source": [
    "**Step 3: Check the minimum and maximum date of the series**\n",
    "\n"
   ]
  },
  {
   "cell_type": "code",
   "execution_count": null,
   "metadata": {},
   "outputs": [],
   "source": [
    "reattends.index.min()"
   ]
  },
  {
   "cell_type": "code",
   "execution_count": null,
   "metadata": {},
   "outputs": [],
   "source": [
    "reattends.index.max()"
   ]
  },
  {
   "cell_type": "markdown",
   "metadata": {},
   "source": [
    "**Step 4: Create a basic plot of the time series**"
   ]
  },
  {
   "cell_type": "code",
   "execution_count": null,
   "metadata": {},
   "outputs": [],
   "source": [
    "_ = reattends.plot(figsize=(12,4))"
   ]
  },
  {
   "cell_type": "markdown",
   "metadata": {},
   "source": [
    "**Step 5: Improve the appearance of your chart**\n",
    "    \n",
    "Try the following:\n",
    "    \n",
    "* Add a y-axis label\n",
    "* Add gridlines to the plot\n",
    "* Add markers to block\n",
    "* Change the colour of the line\n",
    "* Experiment with using seaborn"
   ]
  },
  {
   "cell_type": "code",
   "execution_count": null,
   "metadata": {},
   "outputs": [],
   "source": [
    "sns.set()\n",
    "ax = reattends.plot(figsize=(12,4), color='red', marker='o', legend=False)\n",
    "_ = ax.set_ylabel('reattends within 7 days')"
   ]
  },
  {
   "cell_type": "markdown",
   "metadata": {},
   "source": [
    "**Step 6: Perform a calender adjustment**\n",
    "\n",
    "The data is at the monthly level.  Therefore some of the noise in the time series is due to the differing number of days per month.  Perform a calender adjust and plot the daily rate of reattendance."
   ]
  },
  {
   "cell_type": "code",
   "execution_count": null,
   "metadata": {},
   "outputs": [],
   "source": [
    "reattend_rate = reattends['reattends'] / reattends.index.days_in_month\n",
    "ax = reattend_rate.plot(figsize=(12,4), color='red', marker='o', legend=False)\n",
    "_ = ax.set_ylabel('mean reattends within 7 days')"
   ]
  },
  {
   "cell_type": "markdown",
   "metadata": {},
   "source": [
    "**Step 7: Run a smoother through the series to assess trend**\n",
    "\n",
    "Hint:  Try using the `.rolling` method of dataframe with a `window=12` and `center=True` to create a 12 month centred moving average \n",
    "\n",
    "Is there any benefit from switchoing to a 6 month MA?  Why does the 6-MA look different to the 12-MA.\n",
    "\n",
    "Use the calender adjusted data."
   ]
  },
  {
   "cell_type": "code",
   "execution_count": null,
   "metadata": {},
   "outputs": [],
   "source": [
    "WINDOW = 12\n",
    "smoother = reattend_rate.rolling(window=WINDOW, center=True).mean()\n",
    "\n",
    "sns.set()\n",
    "ax = reattend_rate.plot(figsize=(12,4), color='red', marker='o', linestyle='')\n",
    "smoother.plot(ax=ax, color='green', linestyle='--')\n",
    "ax.set_ylabel('mean reattends within 7 days')\n",
    "_ = ax.legend(['observations', 'smoother'])"
   ]
  },
  {
   "cell_type": "markdown",
   "metadata": {},
   "source": [
    "**Step 8: Perform a seasonal decomposition on the time series**\n",
    "\n",
    "Plot the trend, seasonal and remainder components of the decomposition.\n",
    "\n",
    "Try both an additive and multiplicative model.  What is the difference between the two models?\n",
    "\n",
    "* Hint: Look back at the lecture for a function to help you.\n",
    "\n",
    "\n"
   ]
  },
  {
   "cell_type": "code",
   "execution_count": null,
   "metadata": {},
   "outputs": [],
   "source": [
    "from statsmodels.tsa.seasonal import seasonal_decompose"
   ]
  },
  {
   "cell_type": "code",
   "execution_count": null,
   "metadata": {},
   "outputs": [],
   "source": [
    "decomp = seasonal_decompose(reattend_rate, period=12, model='add')"
   ]
  },
  {
   "cell_type": "code",
   "execution_count": null,
   "metadata": {},
   "outputs": [],
   "source": [
    "_ = decomp.trend.plot(figsize=(12,4))"
   ]
  },
  {
   "cell_type": "code",
   "execution_count": null,
   "metadata": {},
   "outputs": [],
   "source": [
    "_ = decomp.seasonal.plot(figsize=(12,4))"
   ]
  },
  {
   "cell_type": "code",
   "execution_count": null,
   "metadata": {},
   "outputs": [],
   "source": [
    "_ = decomp.resid.plot(figsize=(12,4))"
   ]
  }
 ],
 "metadata": {
  "kernelspec": {
   "display_name": "Python 3 (ipykernel)",
   "language": "python",
   "name": "python3"
  },
  "language_info": {
   "codemirror_mode": {
    "name": "ipython",
    "version": 3
   },
   "file_extension": ".py",
   "mimetype": "text/x-python",
   "name": "python",
   "nbconvert_exporter": "python",
   "pygments_lexer": "ipython3",
   "version": "3.8.8"
  }
 },
 "nbformat": 4,
 "nbformat_minor": 4
}
